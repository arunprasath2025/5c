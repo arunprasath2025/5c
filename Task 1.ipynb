{
  "nbformat": 4,
  "nbformat_minor": 0,
  "metadata": {
    "colab": {
      "provenance": []
    },
    "kernelspec": {
      "name": "python3",
      "display_name": "Python 3"
    },
    "language_info": {
      "name": "python"
    }
  },
  "cells": [
    {
      "cell_type": "code",
      "execution_count": 6,
      "metadata": {
        "id": "_ojLh7qEctrl"
      },
      "outputs": [],
      "source": [
        "import pandas as pd\n",
        "from google.colab import drive\n",
        "drive.mount('/content/drive')\n",
        "\n",
        "# Load the data from the CSV file\n",
        "data = pd.read_csv(\"/content/drive/MyDrive/sales_data_1.csv\")\n",
        "\n",
        "\n",
        "\n"
      ]
    },
    {
      "cell_type": "code",
      "source": [
        "\n"
      ],
      "metadata": {
        "colab": {
          "base_uri": "https://localhost:8080/"
        },
        "id": "5OYIh6e0drjQ",
        "outputId": "fa8454aa-ffb5-4d93-9475-981cee7b50c1"
      },
      "execution_count": 3,
      "outputs": [
        {
          "output_type": "stream",
          "name": "stdout",
          "text": [
            "Mounted at /content/drive\n"
          ]
        }
      ]
    },
    {
      "cell_type": "code",
      "source": [
        "import pandas as pd\n",
        "\n",
        "\n",
        "\n",
        "# Calculate profit for each row\n",
        "data[\"Profit\"] = (data[\"Selling price\"] - data[\"Buying price\"]) * data[\"Quantity sold\"]\n",
        "\n",
        "# 1. Overall Gross Margin\n",
        "overall_gross_margin = data[\"Profit\"].sum()\n",
        "print(\"Overall Gross Margin:\", overall_gross_margin)\n",
        "\n",
        "\n"
      ],
      "metadata": {
        "colab": {
          "base_uri": "https://localhost:8080/"
        },
        "id": "W7-2HmWtdOyT",
        "outputId": "20fc660b-cb80-4959-f8e0-0ddd1e6ac086"
      },
      "execution_count": 7,
      "outputs": [
        {
          "output_type": "stream",
          "name": "stdout",
          "text": [
            "Overall Gross Margin: 31482.749999999996\n"
          ]
        }
      ]
    },
    {
      "cell_type": "code",
      "source": [
        "# 2. Most Profitable Vendor\n",
        "profit_by_vendor = data.groupby(\"Firm bought from\")[\"Profit\"].sum()\n",
        "most_profitable_vendor = profit_by_vendor.idxmax()\n",
        "print(\"Most Profitable Vendor:\", most_profitable_vendor)"
      ],
      "metadata": {
        "colab": {
          "base_uri": "https://localhost:8080/"
        },
        "id": "lXH5etpkfH0a",
        "outputId": "182a0931-2f0b-4751-df5b-51190c7c99e9"
      },
      "execution_count": 8,
      "outputs": [
        {
          "output_type": "stream",
          "name": "stdout",
          "text": [
            "Most Profitable Vendor: Vendor4\n"
          ]
        }
      ]
    },
    {
      "cell_type": "code",
      "source": [
        "# 3. Least Profitable Customer\n",
        "profit_by_customer = data.groupby(\"Customer\")[\"Profit\"].sum()\n",
        "least_profitable_customer = profit_by_customer.idxmin()\n",
        "print(\"Least Profitable Customer:\", least_profitable_customer)\n"
      ],
      "metadata": {
        "colab": {
          "base_uri": "https://localhost:8080/"
        },
        "id": "C0TZGNvtfSNZ",
        "outputId": "7052a986-d646-4f2d-f09e-ec845624a552"
      },
      "execution_count": 9,
      "outputs": [
        {
          "output_type": "stream",
          "name": "stdout",
          "text": [
            "Least Profitable Customer: Customer3\n"
          ]
        }
      ]
    },
    {
      "cell_type": "code",
      "source": [
        "# 4. Most Profitable Day of the Week\n",
        "data[\"Date\"] = pd.to_datetime(data[\"Date\"])\n",
        "data[\"Day_of_Week\"] = data[\"Date\"].dt.day_name()\n",
        "profit_by_day = data.groupby(\"Day_of_Week\")[\"Profit\"].sum()\n",
        "most_profitable_day = profit_by_day.idxmax()\n",
        "print(\"Most Profitable Day of the Week:\", most_profitable_day)"
      ],
      "metadata": {
        "colab": {
          "base_uri": "https://localhost:8080/"
        },
        "id": "R5h9krJNfXHA",
        "outputId": "e61962b0-d8fc-45c0-f7f1-a2967836d1f0"
      },
      "execution_count": 10,
      "outputs": [
        {
          "output_type": "stream",
          "name": "stdout",
          "text": [
            "Most Profitable Day of the Week: Monday\n"
          ]
        }
      ]
    },
    {
      "cell_type": "code",
      "source": [
        "# 5. Least Profitable Day of the Week\n",
        "least_profitable_day = profit_by_day.idxmin()\n",
        "print(\"Least Profitable Day of the Week:\", least_profitable_day)"
      ],
      "metadata": {
        "colab": {
          "base_uri": "https://localhost:8080/"
        },
        "id": "fkgwIKoAfc0_",
        "outputId": "8ec40963-8658-4459-901a-65058b686c18"
      },
      "execution_count": 11,
      "outputs": [
        {
          "output_type": "stream",
          "name": "stdout",
          "text": [
            "Least Profitable Day of the Week: Sunday\n"
          ]
        }
      ]
    },
    {
      "cell_type": "code",
      "source": [],
      "metadata": {
        "id": "QGwTy1VpfcyI"
      },
      "execution_count": null,
      "outputs": []
    },
    {
      "cell_type": "markdown",
      "source": [
        "# New Section"
      ],
      "metadata": {
        "id": "4EkbgOd2d8BL"
      }
    }
  ]
}